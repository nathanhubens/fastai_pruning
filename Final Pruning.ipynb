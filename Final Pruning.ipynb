{
 "cells": [
  {
   "cell_type": "code",
   "execution_count": 1,
   "metadata": {},
   "outputs": [],
   "source": [
    "from Pruner import *\n",
    "from Sparsifier import *"
   ]
  },
  {
   "cell_type": "code",
   "execution_count": 2,
   "metadata": {},
   "outputs": [],
   "source": [
    "import torch\n",
    "import torch.nn as nn\n",
    "import torch.nn.functional as F\n",
    "import torch.optim as optim\n",
    "from torchvision import datasets, transforms"
   ]
  },
  {
   "cell_type": "code",
   "execution_count": 3,
   "metadata": {},
   "outputs": [],
   "source": [
    "import fastai\n",
    "from fastai import *\n",
    "from fastai.vision import *"
   ]
  },
  {
   "cell_type": "code",
   "execution_count": 4,
   "metadata": {},
   "outputs": [],
   "source": [
    "path = untar_data(URLs.MNIST)"
   ]
  },
  {
   "cell_type": "code",
   "execution_count": 5,
   "metadata": {},
   "outputs": [],
   "source": [
    "data = (ImageList.from_folder(path)\n",
    "                .split_by_folder(train='training', valid='testing')\n",
    "                .label_from_folder()\n",
    "                .databunch()\n",
    "                .normalize())"
   ]
  },
  {
   "cell_type": "code",
   "execution_count": 6,
   "metadata": {},
   "outputs": [],
   "source": [
    "bs, epochs = 64,3"
   ]
  },
  {
   "cell_type": "code",
   "execution_count": 7,
   "metadata": {},
   "outputs": [],
   "source": [
    "class Net(nn.Module):\n",
    "    def __init__(self, mnist=True):\n",
    "        super().__init__()\n",
    "          \n",
    "        self.conv1 = nn.Conv2d(3, 6, 5, 1)\n",
    "        self.conv2 = nn.Conv2d(6, 8, 5, 1)\n",
    "        self.conv3 = nn.Conv2d(8,12, 5, 1)\n",
    "        self.pool = nn.AdaptiveAvgPool2d((1))\n",
    "        self.fc1 = nn.Linear(12, 6)\n",
    "        self.fc2 = nn.Linear(6, 10)\n",
    "    \n",
    "    def forward(self, x):\n",
    "\n",
    "        x = F.relu(self.conv1(x))\n",
    "        x = F.max_pool2d(x, 2, 2)\n",
    "        x = F.relu(self.conv2(x))\n",
    "        x = F.relu(self.conv3(x))\n",
    "        x = self.pool(x)\n",
    "        x = x.view(x.shape[0], -1)\n",
    "        x = F.relu(self.fc1(x))\n",
    "        x = self.fc2(x)\n",
    "        return x"
   ]
  },
  {
   "cell_type": "code",
   "execution_count": 8,
   "metadata": {},
   "outputs": [],
   "source": [
    "learn = Learner(data, Net().cuda(), metrics=accuracy)"
   ]
  },
  {
   "cell_type": "code",
   "execution_count": 9,
   "metadata": {},
   "outputs": [],
   "source": [
    "# Pruning type supported: \"weights\" and \"filters\".\n",
    "prune_meta = {\n",
    "        \"pruning_type\": \"filters\",\n",
    "        \"starting_step\" : 0,\n",
    "        \"current_step\": 0,\n",
    "        \"ending_step\": epochs * np.ceil(len(data.train_ds)/bs),\n",
    "        \"final_sparsity\": 50,\n",
    "        \"initial_sparsity\": 0,\n",
    "        \"span\": 100\n",
    "    }"
   ]
  },
  {
   "cell_type": "code",
   "execution_count": 11,
   "metadata": {},
   "outputs": [
    {
     "name": "stdout",
     "output_type": "stream",
     "text": [
      "Pruning of filters until a sparsity of 50%\n"
     ]
    },
    {
     "data": {
      "text/html": [
       "<table border=\"1\" class=\"dataframe\">\n",
       "  <thead>\n",
       "    <tr style=\"text-align: left;\">\n",
       "      <th>epoch</th>\n",
       "      <th>train_loss</th>\n",
       "      <th>valid_loss</th>\n",
       "      <th>accuracy</th>\n",
       "      <th>time</th>\n",
       "    </tr>\n",
       "  </thead>\n",
       "  <tbody>\n",
       "    <tr>\n",
       "      <td>0</td>\n",
       "      <td>0.775302</td>\n",
       "      <td>0.664256</td>\n",
       "      <td>0.832500</td>\n",
       "      <td>00:14</td>\n",
       "    </tr>\n",
       "    <tr>\n",
       "      <td>1</td>\n",
       "      <td>0.420047</td>\n",
       "      <td>0.372281</td>\n",
       "      <td>0.894300</td>\n",
       "      <td>00:15</td>\n",
       "    </tr>\n",
       "    <tr>\n",
       "      <td>2</td>\n",
       "      <td>0.277837</td>\n",
       "      <td>0.286647</td>\n",
       "      <td>0.915200</td>\n",
       "      <td>00:16</td>\n",
       "    </tr>\n",
       "  </tbody>\n",
       "</table>"
      ],
      "text/plain": [
       "<IPython.core.display.HTML object>"
      ]
     },
     "metadata": {},
     "output_type": "display_data"
    },
    {
     "name": "stdout",
     "output_type": "stream",
     "text": [
      "Sparsity: 38.58%\n",
      "Sparsity: 49.45%\n",
      "Sparsity: 50.00%\n"
     ]
    }
   ],
   "source": [
    "learn.fit(epochs, 1e-3, callbacks=SparsifyCallback(learn, meta=prune_meta))"
   ]
  },
  {
   "cell_type": "code",
   "execution_count": 12,
   "metadata": {},
   "outputs": [
    {
     "name": "stdout",
     "output_type": "stream",
     "text": [
      "Parameter containing:\n",
      "tensor([[[[ 0.2475,  0.1677,  0.1033,  0.1801,  0.1739],\n",
      "          [ 0.1782,  0.1986,  0.3613,  0.3549,  0.3466],\n",
      "          [ 0.2723,  0.1880,  0.2505,  0.1067,  0.2003],\n",
      "          [-0.1475, -0.2737, -0.2225, -0.1428, -0.1228],\n",
      "          [-0.4002, -0.2842, -0.3641, -0.2273, -0.2907]],\n",
      "\n",
      "         [[ 0.1908,  0.1839,  0.0639,  0.1057,  0.2273],\n",
      "          [ 0.2465,  0.2825,  0.3783,  0.2438,  0.3440],\n",
      "          [ 0.2019,  0.2791,  0.0912,  0.0718,  0.0619],\n",
      "          [-0.2846, -0.1575, -0.2173, -0.3521, -0.1448],\n",
      "          [-0.3077, -0.3579, -0.3457, -0.2245, -0.1557]],\n",
      "\n",
      "         [[ 0.1586,  0.0623,  0.1230,  0.2327,  0.1311],\n",
      "          [ 0.2486,  0.1972,  0.2168,  0.2224,  0.4078],\n",
      "          [ 0.1281,  0.2704,  0.0919,  0.0096,  0.0968],\n",
      "          [-0.2842, -0.3295, -0.3122, -0.2197, -0.1645],\n",
      "          [-0.4369, -0.3435, -0.2013, -0.1939, -0.2924]]],\n",
      "\n",
      "\n",
      "        [[[-0.0000, -0.0000, -0.0000, -0.0000, -0.0000],\n",
      "          [-0.0000, -0.0000, -0.0000, -0.0000, -0.0000],\n",
      "          [-0.0000, -0.0000, -0.0000, -0.0000, -0.0000],\n",
      "          [-0.0000, -0.0000, -0.0000, -0.0000, -0.0000],\n",
      "          [-0.0000, -0.0000, -0.0000, -0.0000, -0.0000]],\n",
      "\n",
      "         [[-0.0000, -0.0000, -0.0000, -0.0000, -0.0000],\n",
      "          [-0.0000, -0.0000, -0.0000, -0.0000, -0.0000],\n",
      "          [-0.0000, -0.0000, -0.0000, -0.0000, -0.0000],\n",
      "          [-0.0000, -0.0000, -0.0000, -0.0000, -0.0000],\n",
      "          [-0.0000, -0.0000, -0.0000, -0.0000, -0.0000]],\n",
      "\n",
      "         [[-0.0000, -0.0000, -0.0000, -0.0000, -0.0000],\n",
      "          [-0.0000, -0.0000, -0.0000, -0.0000, -0.0000],\n",
      "          [-0.0000, -0.0000, -0.0000, -0.0000, -0.0000],\n",
      "          [-0.0000, -0.0000, -0.0000, -0.0000, -0.0000],\n",
      "          [-0.0000, -0.0000, -0.0000, -0.0000, -0.0000]]],\n",
      "\n",
      "\n",
      "        [[[-0.0000, -0.0000, -0.0000, -0.0000, -0.0000],\n",
      "          [-0.0000, -0.0000, -0.0000, -0.0000, -0.0000],\n",
      "          [-0.0000, -0.0000, -0.0000, -0.0000, -0.0000],\n",
      "          [ 0.0000, -0.0000, -0.0000, -0.0000, -0.0000],\n",
      "          [ 0.0000, -0.0000, -0.0000, -0.0000, -0.0000]],\n",
      "\n",
      "         [[-0.0000, -0.0000, -0.0000, -0.0000, -0.0000],\n",
      "          [-0.0000, -0.0000, -0.0000, -0.0000, -0.0000],\n",
      "          [-0.0000, -0.0000, -0.0000, -0.0000, -0.0000],\n",
      "          [ 0.0000, -0.0000, -0.0000, -0.0000, -0.0000],\n",
      "          [ 0.0000, -0.0000, -0.0000, -0.0000, -0.0000]],\n",
      "\n",
      "         [[-0.0000, -0.0000, -0.0000, -0.0000, -0.0000],\n",
      "          [-0.0000, -0.0000, -0.0000, -0.0000, -0.0000],\n",
      "          [-0.0000, -0.0000, -0.0000, -0.0000, -0.0000],\n",
      "          [ 0.0000, -0.0000, -0.0000, -0.0000, -0.0000],\n",
      "          [ 0.0000, -0.0000, -0.0000, -0.0000, -0.0000]]],\n",
      "\n",
      "\n",
      "        [[[ 0.1233,  0.3271,  0.4252,  0.4378, -0.0397],\n",
      "          [ 0.0351,  0.1789,  0.6060,  0.2106, -0.2252],\n",
      "          [-0.0881,  0.3269,  0.3567,  0.0710, -0.0122],\n",
      "          [-0.0491,  0.2614,  0.2181,  0.3033,  0.3110],\n",
      "          [-0.3040,  0.0092,  0.1945,  0.3482,  0.3677]],\n",
      "\n",
      "         [[ 0.0344,  0.3905,  0.4600,  0.2508, -0.0450],\n",
      "          [ 0.0153,  0.3675,  0.5607,  0.1810, -0.2359],\n",
      "          [-0.1640,  0.3319,  0.5276,  0.2500, -0.1527],\n",
      "          [-0.0337,  0.1711,  0.3219,  0.2883,  0.2584],\n",
      "          [-0.1847,  0.0680,  0.1228,  0.4184,  0.4591]],\n",
      "\n",
      "         [[ 0.1721,  0.3789,  0.5311,  0.4163, -0.0685],\n",
      "          [-0.0827,  0.3069,  0.5288,  0.3305, -0.3486],\n",
      "          [-0.0973,  0.2357,  0.4099,  0.1399, -0.0944],\n",
      "          [-0.0997,  0.2252,  0.2228,  0.3107,  0.1827],\n",
      "          [-0.3017,  0.0928,  0.3156,  0.3176,  0.5070]]],\n",
      "\n",
      "\n",
      "        [[[ 0.1864,  0.2275,  0.2862, -0.0037, -0.0237],\n",
      "          [ 0.1007,  0.2331,  0.2998,  0.0762, -0.0689],\n",
      "          [ 0.0644,  0.3489,  0.2879,  0.0791, -0.4099],\n",
      "          [ 0.2940,  0.2290,  0.2353, -0.2323, -0.6216],\n",
      "          [ 0.3221,  0.3639, -0.0375, -0.3946, -0.5214]],\n",
      "\n",
      "         [[ 0.0176,  0.1328,  0.1863,  0.0332,  0.1063],\n",
      "          [ 0.1505,  0.1259,  0.2020,  0.0666, -0.2239],\n",
      "          [ 0.1625,  0.3949,  0.2174, -0.1141, -0.4450],\n",
      "          [ 0.1859,  0.3374,  0.2287, -0.1549, -0.5145],\n",
      "          [ 0.3679,  0.3212, -0.0327, -0.2271, -0.5234]],\n",
      "\n",
      "         [[ 0.1183,  0.2881,  0.1260,  0.2071, -0.0323],\n",
      "          [ 0.0832,  0.1786,  0.1665,  0.1099, -0.0655],\n",
      "          [ 0.1087,  0.4144,  0.2758, -0.0296, -0.3941],\n",
      "          [ 0.3486,  0.3345,  0.1590, -0.1908, -0.5546],\n",
      "          [ 0.3865,  0.3927,  0.1192, -0.3292, -0.4512]]],\n",
      "\n",
      "\n",
      "        [[[-0.0000, -0.0000, -0.0000, -0.0000, -0.0000],\n",
      "          [-0.0000, -0.0000, -0.0000, -0.0000, -0.0000],\n",
      "          [-0.0000, -0.0000, -0.0000, -0.0000, -0.0000],\n",
      "          [-0.0000, -0.0000, -0.0000, -0.0000, -0.0000],\n",
      "          [-0.0000, -0.0000, -0.0000, -0.0000, -0.0000]],\n",
      "\n",
      "         [[-0.0000, -0.0000, -0.0000, -0.0000, -0.0000],\n",
      "          [-0.0000, -0.0000, -0.0000, -0.0000, -0.0000],\n",
      "          [-0.0000, -0.0000, -0.0000, -0.0000, -0.0000],\n",
      "          [-0.0000, -0.0000, -0.0000, -0.0000, -0.0000],\n",
      "          [-0.0000, -0.0000, -0.0000, -0.0000, -0.0000]],\n",
      "\n",
      "         [[-0.0000, -0.0000, -0.0000, -0.0000, -0.0000],\n",
      "          [-0.0000, -0.0000, -0.0000, -0.0000, -0.0000],\n",
      "          [-0.0000, -0.0000, -0.0000, -0.0000, -0.0000],\n",
      "          [-0.0000, -0.0000, -0.0000, -0.0000, -0.0000],\n",
      "          [-0.0000, -0.0000, -0.0000, -0.0000, -0.0000]]]], device='cuda:0',\n",
      "       requires_grad=True)\n"
     ]
    }
   ],
   "source": [
    "print(learn.model.conv1.weight)"
   ]
  },
  {
   "cell_type": "markdown",
   "metadata": {},
   "source": [
    "## Remove the zero filters"
   ]
  },
  {
   "cell_type": "code",
   "execution_count": 13,
   "metadata": {},
   "outputs": [],
   "source": [
    "pruner = Pruner()"
   ]
  },
  {
   "cell_type": "code",
   "execution_count": 14,
   "metadata": {},
   "outputs": [],
   "source": [
    "pruned_model = pruner.prune_model(learn.model)"
   ]
  },
  {
   "cell_type": "code",
   "execution_count": 15,
   "metadata": {},
   "outputs": [],
   "source": [
    "new_learn = Learner(data, pruned_model, metrics =[accuracy])"
   ]
  },
  {
   "cell_type": "code",
   "execution_count": 16,
   "metadata": {},
   "outputs": [
    {
     "data": {
      "text/plain": [
       "[0.2866467, tensor(0.9152)]"
      ]
     },
     "execution_count": 16,
     "metadata": {},
     "output_type": "execute_result"
    }
   ],
   "source": [
    "learn.validate()"
   ]
  },
  {
   "cell_type": "code",
   "execution_count": 17,
   "metadata": {},
   "outputs": [
    {
     "data": {
      "text/plain": [
       "[0.2866467, tensor(0.9152)]"
      ]
     },
     "execution_count": 17,
     "metadata": {},
     "output_type": "execute_result"
    }
   ],
   "source": [
    "new_learn.validate()"
   ]
  },
  {
   "cell_type": "code",
   "execution_count": 18,
   "metadata": {},
   "outputs": [
    {
     "data": {
      "text/plain": [
       "======================================================================\n",
       "Layer (type)         Output Shape         Param #    Trainable \n",
       "======================================================================\n",
       "Conv2d               [6, 24, 24]          456        True      \n",
       "______________________________________________________________________\n",
       "Conv2d               [8, 8, 8]            1,208      True      \n",
       "______________________________________________________________________\n",
       "Conv2d               [12, 4, 4]           2,412      True      \n",
       "______________________________________________________________________\n",
       "AdaptiveAvgPool2d    [12, 1, 1]           0          False     \n",
       "______________________________________________________________________\n",
       "Linear               [6]                  78         True      \n",
       "______________________________________________________________________\n",
       "Linear               [10]                 70         True      \n",
       "______________________________________________________________________\n",
       "\n",
       "Total params: 4,224\n",
       "Total trainable params: 4,224\n",
       "Total non-trainable params: 0"
      ]
     },
     "execution_count": 18,
     "metadata": {},
     "output_type": "execute_result"
    }
   ],
   "source": [
    "learn.summary()"
   ]
  },
  {
   "cell_type": "code",
   "execution_count": 19,
   "metadata": {},
   "outputs": [
    {
     "data": {
      "text/plain": [
       "======================================================================\n",
       "Layer (type)         Output Shape         Param #    Trainable \n",
       "======================================================================\n",
       "Conv2d               [3, 24, 24]          228        True      \n",
       "______________________________________________________________________\n",
       "Conv2d               [4, 8, 8]            304        True      \n",
       "______________________________________________________________________\n",
       "Conv2d               [6, 4, 4]            606        True      \n",
       "______________________________________________________________________\n",
       "AdaptiveAvgPool2d    [6, 1, 1]            0          False     \n",
       "______________________________________________________________________\n",
       "Linear               [6]                  42         True      \n",
       "______________________________________________________________________\n",
       "Linear               [10]                 70         True      \n",
       "______________________________________________________________________\n",
       "\n",
       "Total params: 1,250\n",
       "Total trainable params: 1,250\n",
       "Total non-trainable params: 0"
      ]
     },
     "execution_count": 19,
     "metadata": {},
     "output_type": "execute_result"
    }
   ],
   "source": [
    "new_learn.summary()"
   ]
  },
  {
   "cell_type": "code",
   "execution_count": null,
   "metadata": {},
   "outputs": [],
   "source": []
  }
 ],
 "metadata": {
  "kernelspec": {
   "display_name": "Python 3",
   "language": "python",
   "name": "python3"
  },
  "language_info": {
   "codemirror_mode": {
    "name": "ipython",
    "version": 3
   },
   "file_extension": ".py",
   "mimetype": "text/x-python",
   "name": "python",
   "nbconvert_exporter": "python",
   "pygments_lexer": "ipython3",
   "version": "3.7.3"
  }
 },
 "nbformat": 4,
 "nbformat_minor": 2
}
